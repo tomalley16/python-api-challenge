{
 "cells": [
  {
   "cell_type": "code",
   "execution_count": null,
   "metadata": {},
   "outputs": [],
   "source": [
    "\n",
    "# Dependencies and Setup\n",
    "import matplotlib.pyplot as plt\n",
    "import pandas as pd\n",
    "import numpy as np\n",
    "import requests\n",
    "import time\n",
    "from pprint import pprint\n",
    "from scipy.stats import linregress\n",
    "\n",
    "# Import API key\n",
    "from config import weathapi_key\n",
    "\n",
    "# Incorporated citipy to determine city based on latitude and longitude\n",
    "from citipy import citipy\n",
    "\n",
    "# Output File (CSV)\n",
    "output_data_file = \"output_data/cities.csv\"\n",
    "\n",
    "# Range of latitudes and longitudes\n",
    "lat_range = (-90, 90)\n",
    "lng_range = (-180, 180)"
   ]
  },
  {
   "cell_type": "code",
   "execution_count": 1,
   "metadata": {},
   "outputs": [
    {
     "ename": "NameError",
     "evalue": "name 'np' is not defined",
     "output_type": "error",
     "traceback": [
      "\u001b[1;31m---------------------------------------------------------------------------\u001b[0m",
      "\u001b[1;31mNameError\u001b[0m                                 Traceback (most recent call last)",
      "\u001b[1;32m<ipython-input-1-6175769c487d>\u001b[0m in \u001b[0;36m<module>\u001b[1;34m\u001b[0m\n\u001b[0;32m      4\u001b[0m \u001b[1;33m\u001b[0m\u001b[0m\n\u001b[0;32m      5\u001b[0m \u001b[1;31m# Create a set of random lat and lng combinations\u001b[0m\u001b[1;33m\u001b[0m\u001b[1;33m\u001b[0m\u001b[1;33m\u001b[0m\u001b[0m\n\u001b[1;32m----> 6\u001b[1;33m \u001b[0mlats\u001b[0m \u001b[1;33m=\u001b[0m \u001b[0mnp\u001b[0m\u001b[1;33m.\u001b[0m\u001b[0mrandom\u001b[0m\u001b[1;33m.\u001b[0m\u001b[0muniform\u001b[0m\u001b[1;33m(\u001b[0m\u001b[0mlow\u001b[0m\u001b[1;33m=\u001b[0m\u001b[1;33m-\u001b[0m\u001b[1;36m90.000\u001b[0m\u001b[1;33m,\u001b[0m \u001b[0mhigh\u001b[0m\u001b[1;33m=\u001b[0m\u001b[1;36m90.000\u001b[0m\u001b[1;33m,\u001b[0m \u001b[0msize\u001b[0m\u001b[1;33m=\u001b[0m\u001b[1;36m1500\u001b[0m\u001b[1;33m)\u001b[0m\u001b[1;33m\u001b[0m\u001b[1;33m\u001b[0m\u001b[0m\n\u001b[0m\u001b[0;32m      7\u001b[0m \u001b[0mlngs\u001b[0m \u001b[1;33m=\u001b[0m \u001b[0mnp\u001b[0m\u001b[1;33m.\u001b[0m\u001b[0mrandom\u001b[0m\u001b[1;33m.\u001b[0m\u001b[0muniform\u001b[0m\u001b[1;33m(\u001b[0m\u001b[0mlow\u001b[0m\u001b[1;33m=\u001b[0m\u001b[1;33m-\u001b[0m\u001b[1;36m180.000\u001b[0m\u001b[1;33m,\u001b[0m \u001b[0mhigh\u001b[0m\u001b[1;33m=\u001b[0m\u001b[1;36m180.000\u001b[0m\u001b[1;33m,\u001b[0m \u001b[0msize\u001b[0m\u001b[1;33m=\u001b[0m\u001b[1;36m1500\u001b[0m\u001b[1;33m)\u001b[0m\u001b[1;33m\u001b[0m\u001b[1;33m\u001b[0m\u001b[0m\n\u001b[0;32m      8\u001b[0m \u001b[0mlat_lngs\u001b[0m \u001b[1;33m=\u001b[0m \u001b[0mzip\u001b[0m\u001b[1;33m(\u001b[0m\u001b[0mlats\u001b[0m\u001b[1;33m,\u001b[0m \u001b[0mlngs\u001b[0m\u001b[1;33m)\u001b[0m\u001b[1;33m\u001b[0m\u001b[1;33m\u001b[0m\u001b[0m\n",
      "\u001b[1;31mNameError\u001b[0m: name 'np' is not defined"
     ]
    }
   ],
   "source": [
    "# List for holding lat_lngs and cities\n",
    "lat_lngs = []\n",
    "cities = []\n",
    "\n",
    "# Create a set of random lat and lng combinations\n",
    "lats = np.random.uniform(low=-90.000, high=90.000, size=1500)\n",
    "lngs = np.random.uniform(low=-180.000, high=180.000, size=1500)\n",
    "lat_lngs = zip(lats, lngs)\n",
    "\n",
    "# Identify nearest city for each lat, lng combination\n",
    "for lat_lng in lat_lngs:\n",
    "    city = citipy.nearest_city(lat_lng[0], lat_lng[1]).city_name\n",
    "    \n",
    "    # If the city is unique, then add it to a our cities list\n",
    "    if city not in cities:\n",
    "        cities.append(city)"
   ]
  },
  {
   "cell_type": "code",
   "execution_count": null,
   "metadata": {},
   "outputs": [],
   "source": [
    "# Print the city count to confirm sufficient count\n",
    "len(cities)\n",
    "#cities"
   ]
  },
  {
   "cell_type": "code",
   "execution_count": null,
   "metadata": {},
   "outputs": [],
   "source": [
    "\n",
    "# Save config information.\n",
    "url = \"http://api.openweathermap.org/data/2.5/weather?\"\n",
    "units = \"imperial\"\n",
    "\n",
    "# Build partial query URL\n",
    "query_url = f\"{url}appid={weathapi_key}&units={units}&q=\"\n",
    "query_url"
   ]
  },
  {
   "cell_type": "code",
   "execution_count": null,
   "metadata": {},
   "outputs": [],
   "source": [
    "# set up lists to hold response info\n",
    "cit = []\n",
    "lat = []\n",
    "lng = []\n",
    "temp = []\n",
    "humid = []\n",
    "MaxT = []\n",
    "cloud = []\n",
    "wind = []\n",
    "country = []\n",
    "date = []\n",
    "city_count = 0\n",
    "\n",
    "# Get weather data\n",
    "# weather_response = requests.get(query_url)\n",
    "# weather_json = weather_response.json()\n",
    "# Get the temperature from the response\n",
    "#pprint(weather_json)\n",
    "for city1 in cities:\n",
    "    city_count += 1\n",
    "    try:\n",
    "        response = requests.get(query_url + city1).json()\n",
    "        temp_lat = response['coord']['lat']\n",
    "        temp_lng = response['coord']['lon']\n",
    "        temp_temp = response['main']['temp']\n",
    "        temp_humid = response['main']['humidity']\n",
    "        temp_MaxT = response['main']['temp_max']\n",
    "        temp_cloud = response['clouds']['all']\n",
    "        temp_wind = response['wind']['speed']\n",
    "        temp_country = response['sys']['country']\n",
    "        temp_date = response['dt']\n",
    "        temp_cit = response['name']\n",
    "        lat.append(temp_lat)\n",
    "        lng.append(temp_lng)\n",
    "        temp.append(temp_temp) \n",
    "        humid.append(temp_humid)\n",
    "        MaxT.append(temp_MaxT)\n",
    "        cloud.append(temp_cloud)\n",
    "        wind.append(temp_wind)\n",
    "        country.append(temp_country)\n",
    "        date.append(temp_date)\n",
    "        cit.append(temp_cit)\n",
    "        print(f\"The temperature for: {city_count}. {city1} is {response['main']['temp']}\")\n",
    "    except:\n",
    "        print(f\"No information available for {city1}\")"
   ]
  },
  {
   "cell_type": "code",
   "execution_count": null,
   "metadata": {},
   "outputs": [],
   "source": [
    "\n",
    "#Verify length of arrays\n",
    "print(len(cit))\n",
    "print(len(lat))\n",
    "print(len(lng))\n",
    "print(len(temp))\n",
    "print(len(humid))\n",
    "print(len(MaxT))\n",
    "print(len(cloud))\n",
    "print(len(wind))\n",
    "print(len(country))\n",
    "print(len(date))"
   ]
  },
  {
   "cell_type": "code",
   "execution_count": null,
   "metadata": {},
   "outputs": [],
   "source": [
    "weatherdict = {\n",
    "        \"City\": cit,\n",
    "        \"Lat\": lat,\n",
    "        \"Lng\": lng,\n",
    "        \"Temp\": temp,\n",
    "        \"Humidity\": humid,\n",
    "        \"Max Temp\": MaxT,\n",
    "        \"Cloudiness\": cloud,\n",
    "        \"Wind Speed\": wind,\n",
    "        \"Country\": country,\n",
    "        \"Date\": date\n",
    "}"
   ]
  },
  {
   "cell_type": "code",
   "execution_count": null,
   "metadata": {},
   "outputs": [],
   "source": [
    "weather_data = pd.DataFrame(weatherdict)\n",
    "weather_data.head()"
   ]
  },
  {
   "cell_type": "code",
   "execution_count": null,
   "metadata": {},
   "outputs": [],
   "source": [
    "# Output to CSV file\n",
    "weather_data.to_csv(\"weather_data.csv\")"
   ]
  },
  {
   "cell_type": "code",
   "execution_count": null,
   "metadata": {},
   "outputs": [],
   "source": [
    "\n",
    "#  Get the indices of cities that have humidity over 100%.\n",
    "weather_data.loc[(weather_data[\"Humidity\"] > 100)]"
   ]
  },
  {
   "cell_type": "code",
   "execution_count": null,
   "metadata": {},
   "outputs": [],
   "source": [
    "# Make a new DataFrame equal to the city data to drop all humidity outliers by index.\n",
    "# Passing \"inplace=False\" will make a copy of the city_data DataFrame, which we call \"clean_city_data\".\n",
    "# NO CITIES HAVE HUMIDITY > 100%"
   ]
  },
  {
   "cell_type": "code",
   "execution_count": null,
   "metadata": {},
   "outputs": [],
   "source": [
    "\n",
    "Adjlat_df = weather_data.copy()\n",
    "Adjlat_df['Lat'] = Adjlat_df[\"Lat\"].abs()\n",
    "Adjlat_df.head()"
   ]
  },
  {
   "cell_type": "code",
   "execution_count": null,
   "metadata": {},
   "outputs": [],
   "source": [
    "\n",
    "# Generate scatterplot\n",
    "Adjlat_df.plot(kind=\"scatter\", x=\"Lat\", y=\"Temp\", grid=True, figsize=(4,4),\n",
    "              title=\"Temperature Vs. Latitude as of 8/27/20\")\n",
    "plt.xlabel(\"Latitude (North and South)\")\n",
    "plt.ylabel(\"Current Temperature\")\n",
    "plt.ylim(0, max(Adjlat_df[\"Temp\"])+10)\n",
    "plt.savefig(\"Temp.png\", format=\"png\")\n",
    "plt.show()"
   ]
  },
  {
   "cell_type": "code",
   "execution_count": null,
   "metadata": {},
   "outputs": [],
   "source": [
    "\n",
    "# Generate scatterplot\n",
    "Adjlat_df.plot(kind=\"scatter\", x=\"Lat\", y=\"Humidity\", grid=True, figsize=(4,4),\n",
    "              title=\"Humidity Vs. Latitude as of 8/27/20\")\n",
    "plt.xlabel(\"Latitude (North and South)\")\n",
    "plt.ylabel(\"Current Humidity (%)\")\n",
    "plt.ylim(0, max(Adjlat_df[\"Humidity\"])+10)\n",
    "plt.savefig(\"Humidity.png\", format=\"png\")\n",
    "plt.show()"
   ]
  },
  {
   "cell_type": "code",
   "execution_count": null,
   "metadata": {},
   "outputs": [],
   "source": [
    "\n",
    "# Generate scatterplot\n",
    "Adjlat_df.plot(kind=\"scatter\", x=\"Lat\", y=\"Cloudiness\", grid=True, figsize=(4,4),\n",
    "              title=\"Cloudiness Vs. Latitude as of 8/27/20\")\n",
    "plt.xlabel(\"Latitude (North and South)\")\n",
    "plt.ylabel(\"Current Cloudiness (%)\")\n",
    "plt.ylim(0, max(Adjlat_df[\"Cloudiness\"])+10)\n",
    "plt.savefig(\"Cloudy.png\", format=\"png\")\n",
    "plt.show()"
   ]
  },
  {
   "cell_type": "code",
   "execution_count": null,
   "metadata": {},
   "outputs": [],
   "source": [
    "\n",
    "# Generate scatterplot\n",
    "Adjlat_df.plot(kind=\"scatter\", x=\"Lat\", y=\"Wind Speed\", grid=True, figsize=(4,4),\n",
    "              title=\"Wind Speed Vs. Latitude as of 8/27/20\")\n",
    "plt.xlabel(\"Latitude (North and South)\")\n",
    "plt.ylabel(\"Current Wind Speed (mph)\")\n",
    "plt.ylim(0, max(Adjlat_df[\"Wind Speed\"])+10)\n",
    "plt.savefig(\"Wind.png\", format=\"png\")\n",
    "plt.show()"
   ]
  },
  {
   "cell_type": "code",
   "execution_count": null,
   "metadata": {},
   "outputs": [],
   "source": [
    "#Break main dataframe into northern and southern dataframes\n",
    "north_df = weather_data.loc[(weather_data[\"Lat\"] >= 0)]\n",
    "south_df = weather_data.loc[(weather_data[\"Lat\"] < 0)]\n",
    "north_df = north_df.reset_index()\n",
    "south_df = south_df.reset_index()\n",
    "#north_df.head()\n",
    "#south_df.head()"
   ]
  },
  {
   "cell_type": "code",
   "execution_count": null,
   "metadata": {},
   "outputs": [],
   "source": [
    "#Calculate linear regression model for north latitude and maximum temperature\n",
    "Latitude = north_df[\"Lat\"]\n",
    "TempMax = north_df[\"Max Temp\"]\n",
    "north_df.plot(kind=\"scatter\", x=\"Lat\", y=\"Max Temp\", grid=True, figsize=(8,8), title=\"Temperature Vs. North Latitude 8/27/20\")\n",
    "plt.xlabel(\"Degrees North Latitude\")\n",
    "plt.ylabel(\"Maximum Temperature\")\n",
    "(slope, intercept, rvalue, pvalue, stderr) = linregress(Latitude, TempMax)\n",
    "regress_values = Latitude * slope + intercept\n",
    "line_eq = \"y = \" + str(round(slope,2)) + \"x + \" + str(round(intercept,2))\n",
    "plt.plot(Latitude,regress_values,\"r-\")\n",
    "plt.annotate(line_eq,(6,10),fontsize=15,color=\"red\")\n",
    "print(f\"The r-squared is: {rvalue**2}\")\n",
    "print(line_eq)"
   ]
  },
  {
   "cell_type": "code",
   "execution_count": null,
   "metadata": {},
   "outputs": [],
   "source": [
    "\n",
    "#Calculate linear regression model for south latitude and maximum temperature\n",
    "SLatitude = south_df[\"Lat\"]\n",
    "STempMax = south_df[\"Max Temp\"]\n",
    "south_df.plot(kind=\"scatter\", x=\"Lat\", y=\"Max Temp\", grid=True, figsize=(8,8), title=\"Temperature Vs. South Latitude 8/27/20\")\n",
    "plt.xlabel(\"Degrees South Latitude\")\n",
    "plt.ylabel(\"Maximum Temperature\")\n",
    "(slope, intercept, rvalue, pvalue, stderr) = linregress(SLatitude, STempMax)\n",
    "regress_values = SLatitude * slope + intercept\n",
    "line_eq = \"y = \" + str(round(slope,2)) + \"x + \" + str(round(intercept,2))\n",
    "plt.plot(SLatitude,regress_values,\"r-\")\n",
    "plt.annotate(line_eq,(6,10),fontsize=15,color=\"red\")\n",
    "print(f\"The r-squared is: {rvalue**2}\")\n",
    "print(line_eq)"
   ]
  },
  {
   "cell_type": "code",
   "execution_count": null,
   "metadata": {},
   "outputs": [],
   "source": [
    "#Calculate linear regression model for north latitude and humidity\n",
    "Humidity = north_df[\"Humidity\"]\n",
    "north_df.plot(kind=\"scatter\", x=\"Lat\", y=\"Humidity\", grid=True, figsize=(8,8), title=\"Humidity Vs. North Latitude 8/27/20\")\n",
    "plt.xlabel(\"Degrees North Latitude\")\n",
    "plt.ylabel(\"Humidity (%)\")\n",
    "(slope, intercept, rvalue, pvalue, stderr) = linregress(Latitude, Humidity)\n",
    "regress_values = Latitude * slope + intercept\n",
    "line_eq = \"y = \" + str(round(slope,2)) + \"x + \" + str(round(intercept,2))\n",
    "plt.plot(Latitude,regress_values,\"r-\")\n",
    "plt.annotate(line_eq,(6,10),fontsize=15,color=\"red\")\n",
    "print(f\"The r-squared is: {rvalue**2}\")\n",
    "print(line_eq)"
   ]
  },
  {
   "cell_type": "code",
   "execution_count": null,
   "metadata": {},
   "outputs": [],
   "source": [
    "\n",
    "#Calculate linear regression model for south latitude and humidity\n",
    "SHumidity = south_df[\"Humidity\"]\n",
    "south_df.plot(kind=\"scatter\", x=\"Lat\", y=\"Humidity\", grid=True, figsize=(8,8), title=\"Humidity Vs. South Latitude 8/27/20\")\n",
    "plt.xlabel(\"Degrees South Latitude\")\n",
    "plt.ylabel(\"Humidity (%)\")\n",
    "(slope, intercept, rvalue, pvalue, stderr) = linregress(SLatitude, SHumidity)\n",
    "regress_values = SLatitude * slope + intercept\n",
    "line_eq = \"y = \" + str(round(slope,2)) + \"x + \" + str(round(intercept,2))\n",
    "plt.plot(SLatitude,regress_values,\"r-\")\n",
    "plt.annotate(line_eq,(6,10),fontsize=15,color=\"red\")\n",
    "print(f\"The r-squared is: {rvalue**2}\")\n",
    "print(line_eq)"
   ]
  },
  {
   "cell_type": "code",
   "execution_count": null,
   "metadata": {},
   "outputs": [],
   "source": [
    "\n",
    "#Calculate linear regression model for north latitude and cloudiness\n",
    "Cloudiness = north_df[\"Cloudiness\"]\n",
    "north_df.plot(kind=\"scatter\", x=\"Lat\", y=\"Cloudiness\", grid=True, figsize=(8,8), title=\"Cloudiness Vs. North Latitude 8/27/20\")\n",
    "plt.xlabel(\"Degrees North Latitude\")\n",
    "plt.ylabel(\"Cloudiness (%)\")\n",
    "(slope, intercept, rvalue, pvalue, stderr) = linregress(Latitude, Cloudiness)\n",
    "regress_values = Latitude * slope + intercept\n",
    "line_eq = \"y = \" + str(round(slope,2)) + \"x + \" + str(round(intercept,2))\n",
    "plt.plot(Latitude,regress_values,\"r-\")\n",
    "plt.annotate(line_eq,(6,10),fontsize=15,color=\"red\")\n",
    "print(f\"The r-squared is: {rvalue**2}\")\n",
    "print(line_eq)"
   ]
  },
  {
   "cell_type": "code",
   "execution_count": null,
   "metadata": {},
   "outputs": [],
   "source": [
    "#Calculate linear regression model for north latitude and cloudiness\n",
    "SCloudiness = south_df[\"Cloudiness\"]\n",
    "south_df.plot(kind=\"scatter\", x=\"Lat\", y=\"Cloudiness\", grid=True, figsize=(8,8), title=\"Cloudiness Vs. South Latitude 8/27/20\")\n",
    "plt.xlabel(\"Degrees South Latitude\")\n",
    "plt.ylabel(\"Cloudiness (%)\")\n",
    "(slope, intercept, rvalue, pvalue, stderr) = linregress(SLatitude, SCloudiness)\n",
    "regress_values = SLatitude * slope + intercept\n",
    "line_eq = \"y = \" + str(round(slope,2)) + \"x + \" + str(round(intercept,2))\n",
    "plt.plot(SLatitude,regress_values,\"r-\")\n",
    "plt.annotate(line_eq,(6,10),fontsize=15,color=\"red\")\n",
    "print(f\"The r-squared is: {rvalue**2}\")\n",
    "print(line_eq)"
   ]
  },
  {
   "cell_type": "code",
   "execution_count": null,
   "metadata": {},
   "outputs": [],
   "source": [
    "#Calculate linear regression model for north latitude and wind speed\n",
    "Windspeed = north_df[\"Wind Speed\"]\n",
    "north_df.plot(kind=\"scatter\", x=\"Lat\", y=\"Wind Speed\", grid=True, figsize=(8,8), title=\"Wind Speed Vs. North Latitude 8/27/20\")\n",
    "plt.xlabel(\"Degrees North Latitude\")\n",
    "plt.ylabel(\"Wind Speed (mph)\")\n",
    "(slope, intercept, rvalue, pvalue, stderr) = linregress(Latitude, Windspeed)\n",
    "regress_values = Latitude * slope + intercept\n",
    "line_eq = \"y = \" + str(round(slope,2)) + \"x + \" + str(round(intercept,2))\n",
    "plt.plot(Latitude,regress_values,\"r-\")\n",
    "plt.annotate(line_eq,(6,10),fontsize=15,color=\"red\")\n",
    "print(f\"The r-squared is: {rvalue**2}\")\n",
    "print(line_eq)"
   ]
  },
  {
   "cell_type": "code",
   "execution_count": null,
   "metadata": {},
   "outputs": [],
   "source": [
    "#Calculate linear regression model for south latitude and wind speed\n",
    "SWindspeed = south_df[\"Wind Speed\"]\n",
    "south_df.plot(kind=\"scatter\", x=\"Lat\", y=\"Wind Speed\", grid=True, figsize=(8,8), title=\"Wind Speed Vs. South Latitude 8/27/20\")\n",
    "plt.xlabel(\"Degrees South Latitude\")\n",
    "plt.ylabel(\"Wind Speed (mph)\")\n",
    "(slope, intercept, rvalue, pvalue, stderr) = linregress(SLatitude, SWindspeed)\n",
    "regress_values = SLatitude * slope + intercept\n",
    "line_eq = \"y = \" + str(round(slope,2)) + \"x + \" + str(round(intercept,2))\n",
    "plt.plot(SLatitude,regress_values,\"r-\")\n",
    "plt.annotate(line_eq,(6,10),fontsize=15,color=\"red\")\n",
    "print(f\"The r-squared is: {rvalue**2}\")\n",
    "print(line_eq)"
   ]
  },
  {
   "cell_type": "code",
   "execution_count": null,
   "metadata": {},
   "outputs": [],
   "source": [
    "# There appears to be slight correlation between wind speed and latitude; measurements are sporadic at every latitude"
   ]
  },
  {
   "cell_type": "code",
   "execution_count": null,
   "metadata": {},
   "outputs": [],
   "source": [
    "#FINAL OBSERVATIONS\n",
    "    #In both hemishpheres, temperature do slightly trend downwards the further north or south you go of the equator.\n",
    "    #There are slight trends for wind speed and cloudiness as you mover further north or south of the equator.\n",
    "    #There is minimal correlation between humidity and distance from the equator."
   ]
  }
 ],
 "metadata": {
  "kernelspec": {
   "display_name": "Python 3.7.6 64-bit ('base': conda)",
   "language": "python",
   "name": "python37664bitbaseconda5e745610bee74b44b2afeb90a8bac32a"
  },
  "language_info": {
   "codemirror_mode": {
    "name": "ipython",
    "version": 3
   },
   "file_extension": ".py",
   "mimetype": "text/x-python",
   "name": "python",
   "nbconvert_exporter": "python",
   "pygments_lexer": "ipython3",
   "version": "3.7.6"
  }
 },
 "nbformat": 4,
 "nbformat_minor": 4
}
